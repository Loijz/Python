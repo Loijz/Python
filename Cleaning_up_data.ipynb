{
  "nbformat": 4,
  "nbformat_minor": 0,
  "metadata": {
    "colab": {
      "provenance": [],
      "authorship_tag": "ABX9TyPdAct0OCE87Dp+HoyNXnHj",
      "include_colab_link": true
    },
    "kernelspec": {
      "name": "python3",
      "display_name": "Python 3"
    },
    "language_info": {
      "name": "python"
    }
  },
  "cells": [
    {
      "cell_type": "markdown",
      "metadata": {
        "id": "view-in-github",
        "colab_type": "text"
      },
      "source": [
        "<a href=\"https://colab.research.google.com/github/Loijz/Python/blob/main/Cleaning_up_data.ipynb\" target=\"_parent\"><img src=\"https://colab.research.google.com/assets/colab-badge.svg\" alt=\"Open In Colab\"/></a>"
      ]
    },
    {
      "cell_type": "code",
      "execution_count": 1,
      "metadata": {
        "id": "qqlJl5l2o_Wm"
      },
      "outputs": [],
      "source": [
        "data_science_jobs = [\n",
        "    {'job_title': 'Data Scientist', 'job_skills': \"['Python', 'SQL', 'Machine Learning', 'R']\", 'job_date': '2023-05-12'},\n",
        "    {'job_title': 'Machine Learning Engineer', 'job_skills': \"['Python', 'TensorFlow', 'Deep Learning', 'Java']\", 'job_date': '2023-06-25'},\n",
        "    {'job_title': 'Data Analyst', 'job_skills': \"['Excel', 'SQL', 'Tableau', 'Statistics']\", 'job_date': '2023-07-01'},\n",
        "    {'job_title': 'Data Engineer', 'job_skills': \"['Python', 'SQL', 'ETL', 'Big Data']\", 'job_date': '2023-07-15'},\n",
        "    {'job_title': 'AI Research Scientist', 'job_skills': \"['PyTorch', 'Natural Language Processing', 'Deep Learning', 'Data Analysis']\", 'job_date': '2023-08-10'},\n",
        "    {'job_title': 'Business Intelligence Developer', 'job_skills': \"['Power BI', 'SQL', 'Data Visualization', 'DAX']\", 'job_date': '2023-09-05'}\n",
        "]\n"
      ]
    },
    {
      "cell_type": "code",
      "source": [
        "from datetime import datetime"
      ],
      "metadata": {
        "id": "BuIDFYD63i5l"
      },
      "execution_count": 2,
      "outputs": []
    },
    {
      "cell_type": "code",
      "source": [
        "datetime.now()"
      ],
      "metadata": {
        "colab": {
          "base_uri": "https://localhost:8080/"
        },
        "id": "yStOR-hb34p0",
        "outputId": "0f11c0fd-5970-4518-bfb4-95a855515042"
      },
      "execution_count": 3,
      "outputs": [
        {
          "output_type": "execute_result",
          "data": {
            "text/plain": [
              "datetime.datetime(2024, 11, 4, 14, 38, 59, 347075)"
            ]
          },
          "metadata": {},
          "execution_count": 3
        }
      ]
    },
    {
      "cell_type": "code",
      "source": [
        "datetime.now()"
      ],
      "metadata": {
        "colab": {
          "base_uri": "https://localhost:8080/"
        },
        "id": "2gKahTNh4wIc",
        "outputId": "bb07ab7b-d484-47de-d379-9a42a9ed63f0"
      },
      "execution_count": 4,
      "outputs": [
        {
          "output_type": "execute_result",
          "data": {
            "text/plain": [
              "datetime.datetime(2024, 11, 4, 14, 38, 59, 358382)"
            ]
          },
          "metadata": {},
          "execution_count": 4
        }
      ]
    },
    {
      "cell_type": "code",
      "source": [
        "data_science_jobs[0]"
      ],
      "metadata": {
        "colab": {
          "base_uri": "https://localhost:8080/"
        },
        "id": "_LRZxDUn45pP",
        "outputId": "5e1e1aa8-97de-4cba-dd00-566e50536209"
      },
      "execution_count": 5,
      "outputs": [
        {
          "output_type": "execute_result",
          "data": {
            "text/plain": [
              "{'job_title': 'Data Scientist',\n",
              " 'job_skills': \"['Python', 'SQL', 'Machine Learning', 'R']\",\n",
              " 'job_date': '2023-05-12'}"
            ]
          },
          "metadata": {},
          "execution_count": 5
        }
      ]
    },
    {
      "cell_type": "code",
      "source": [
        "data_science_jobs[0]['job_date']"
      ],
      "metadata": {
        "colab": {
          "base_uri": "https://localhost:8080/",
          "height": 35
        },
        "id": "v51MuZ2O4--V",
        "outputId": "491c60a6-b7e2-41f6-e1c5-93c6604e6b20"
      },
      "execution_count": 6,
      "outputs": [
        {
          "output_type": "execute_result",
          "data": {
            "text/plain": [
              "'2023-05-12'"
            ],
            "application/vnd.google.colaboratory.intrinsic+json": {
              "type": "string"
            }
          },
          "metadata": {},
          "execution_count": 6
        }
      ]
    },
    {
      "cell_type": "code",
      "source": [
        "type(data_science_jobs[0]['job_date']) #reveiling what kind of data it is"
      ],
      "metadata": {
        "colab": {
          "base_uri": "https://localhost:8080/"
        },
        "id": "EXr-H0Wx5JsR",
        "outputId": "ac716226-074d-4f24-89e0-3ccb538a7a4a"
      },
      "execution_count": 7,
      "outputs": [
        {
          "output_type": "execute_result",
          "data": {
            "text/plain": [
              "str"
            ]
          },
          "metadata": {},
          "execution_count": 7
        }
      ]
    },
    {
      "cell_type": "code",
      "source": [
        "test_date = data_science_jobs[0]['job_date']"
      ],
      "metadata": {
        "id": "JcRwuS8M5QkL"
      },
      "execution_count": 8,
      "outputs": []
    },
    {
      "cell_type": "code",
      "source": [
        "test_date"
      ],
      "metadata": {
        "colab": {
          "base_uri": "https://localhost:8080/",
          "height": 35
        },
        "id": "e9ivovmE6LFv",
        "outputId": "203b9c9e-643a-427e-c1b2-3261ff79c710"
      },
      "execution_count": 9,
      "outputs": [
        {
          "output_type": "execute_result",
          "data": {
            "text/plain": [
              "'2023-05-12'"
            ],
            "application/vnd.google.colaboratory.intrinsic+json": {
              "type": "string"
            }
          },
          "metadata": {},
          "execution_count": 9
        }
      ]
    },
    {
      "cell_type": "code",
      "source": [
        "datetime.strptime(test_date, '%Y-%m-%d')"
      ],
      "metadata": {
        "colab": {
          "base_uri": "https://localhost:8080/"
        },
        "id": "eA644Ue_6S-C",
        "outputId": "996d26bb-0f0a-4ade-855e-90d1b63ef70d"
      },
      "execution_count": 10,
      "outputs": [
        {
          "output_type": "execute_result",
          "data": {
            "text/plain": [
              "datetime.datetime(2023, 5, 12, 0, 0)"
            ]
          },
          "metadata": {},
          "execution_count": 10
        }
      ]
    },
    {
      "cell_type": "code",
      "source": [
        "print(datetime.strptime(test_date, '%Y-%m-%d'))"
      ],
      "metadata": {
        "colab": {
          "base_uri": "https://localhost:8080/"
        },
        "id": "h5dk5yEM6ck0",
        "outputId": "930c8744-716a-4558-a4e1-d15e065f7d97"
      },
      "execution_count": 11,
      "outputs": [
        {
          "output_type": "stream",
          "name": "stdout",
          "text": [
            "2023-05-12 00:00:00\n"
          ]
        }
      ]
    },
    {
      "cell_type": "code",
      "source": [
        "import ast\n",
        "\n",
        "for job in data_science_jobs:\n",
        "  job['job_date'] = datetime.strptime(job['job_date'], '%Y-%m-%d')\n",
        "  job['job_skills'] = ast.literal_eval(job['job_skills'])"
      ],
      "metadata": {
        "id": "3T1DPs3I7H6y"
      },
      "execution_count": 12,
      "outputs": []
    },
    {
      "cell_type": "code",
      "source": [
        "data_science_jobs"
      ],
      "metadata": {
        "colab": {
          "base_uri": "https://localhost:8080/"
        },
        "id": "iPKaD5_Y9z7o",
        "outputId": "392e84f1-4b7a-40c6-9cc9-f5c706e99e57"
      },
      "execution_count": 13,
      "outputs": [
        {
          "output_type": "execute_result",
          "data": {
            "text/plain": [
              "[{'job_title': 'Data Scientist',\n",
              "  'job_skills': ['Python', 'SQL', 'Machine Learning', 'R'],\n",
              "  'job_date': datetime.datetime(2023, 5, 12, 0, 0)},\n",
              " {'job_title': 'Machine Learning Engineer',\n",
              "  'job_skills': ['Python', 'TensorFlow', 'Deep Learning', 'Java'],\n",
              "  'job_date': datetime.datetime(2023, 6, 25, 0, 0)},\n",
              " {'job_title': 'Data Analyst',\n",
              "  'job_skills': ['Excel', 'SQL', 'Tableau', 'Statistics'],\n",
              "  'job_date': datetime.datetime(2023, 7, 1, 0, 0)},\n",
              " {'job_title': 'Data Engineer',\n",
              "  'job_skills': ['Python', 'SQL', 'ETL', 'Big Data'],\n",
              "  'job_date': datetime.datetime(2023, 7, 15, 0, 0)},\n",
              " {'job_title': 'AI Research Scientist',\n",
              "  'job_skills': ['PyTorch',\n",
              "   'Natural Language Processing',\n",
              "   'Deep Learning',\n",
              "   'Data Analysis'],\n",
              "  'job_date': datetime.datetime(2023, 8, 10, 0, 0)},\n",
              " {'job_title': 'Business Intelligence Developer',\n",
              "  'job_skills': ['Power BI', 'SQL', 'Data Visualization', 'DAX'],\n",
              "  'job_date': datetime.datetime(2023, 9, 5, 0, 0)}]"
            ]
          },
          "metadata": {},
          "execution_count": 13
        }
      ]
    },
    {
      "cell_type": "code",
      "source": [],
      "metadata": {
        "id": "YOlpvOXA-HLh"
      },
      "execution_count": 13,
      "outputs": []
    }
  ]
}