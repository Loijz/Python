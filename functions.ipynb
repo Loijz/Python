{
  "nbformat": 4,
  "nbformat_minor": 0,
  "metadata": {
    "colab": {
      "provenance": [],
      "authorship_tag": "ABX9TyNRRA+Xg71AXkM8+4X+Hfem",
      "include_colab_link": true
    },
    "kernelspec": {
      "name": "python3",
      "display_name": "Python 3"
    },
    "language_info": {
      "name": "python"
    }
  },
  "cells": [
    {
      "cell_type": "markdown",
      "metadata": {
        "id": "view-in-github",
        "colab_type": "text"
      },
      "source": [
        "<a href=\"https://colab.research.google.com/github/Loijz/Python/blob/main/functions.ipynb\" target=\"_parent\"><img src=\"https://colab.research.google.com/assets/colab-badge.svg\" alt=\"Open In Colab\"/></a>"
      ]
    },
    {
      "cell_type": "code",
      "execution_count": 1,
      "metadata": {
        "id": "SK405OWvl9Bh"
      },
      "outputs": [],
      "source": [
        "skill_list = ['Python', 'SQL', 'Excel']"
      ]
    },
    {
      "cell_type": "code",
      "source": [
        "len(skill_list)"
      ],
      "metadata": {
        "colab": {
          "base_uri": "https://localhost:8080/"
        },
        "id": "l3-QeXoImPs7",
        "outputId": "b68c146c-7d6f-4499-be57-b2c37f803419"
      },
      "execution_count": 2,
      "outputs": [
        {
          "output_type": "execute_result",
          "data": {
            "text/plain": [
              "3"
            ]
          },
          "metadata": {},
          "execution_count": 2
        }
      ]
    },
    {
      "cell_type": "code",
      "source": [
        "count = 0\n",
        "for skill in skill_list:\n",
        "  count += 1\n",
        "\n",
        "count"
      ],
      "metadata": {
        "id": "pZsN4IGanUyD",
        "colab": {
          "base_uri": "https://localhost:8080/"
        },
        "outputId": "a6bb10a9-a76a-49b2-b889-d29659261c70"
      },
      "execution_count": 3,
      "outputs": [
        {
          "output_type": "execute_result",
          "data": {
            "text/plain": [
              "3"
            ]
          },
          "metadata": {},
          "execution_count": 3
        }
      ]
    },
    {
      "cell_type": "code",
      "source": [
        "#checking all available functions\n",
        "import types\n",
        "\n",
        "print([func for func in dir(__builtins__) if isinstance(getattr(__builtins__, func), types.BuiltinFunctionType)])"
      ],
      "metadata": {
        "colab": {
          "base_uri": "https://localhost:8080/"
        },
        "id": "5rZKmJT0uO3x",
        "outputId": "73279cfa-c732-4df1-edf0-f836027a7116"
      },
      "execution_count": 4,
      "outputs": [
        {
          "output_type": "stream",
          "name": "stdout",
          "text": [
            "['__build_class__', '__import__', 'abs', 'aiter', 'all', 'anext', 'any', 'ascii', 'bin', 'breakpoint', 'callable', 'chr', 'compile', 'delattr', 'dir', 'divmod', 'eval', 'exec', 'format', 'getattr', 'globals', 'hasattr', 'hash', 'hex', 'id', 'isinstance', 'issubclass', 'iter', 'len', 'locals', 'max', 'min', 'next', 'oct', 'open', 'ord', 'pow', 'print', 'repr', 'round', 'setattr', 'sorted', 'sum', 'vars']\n"
          ]
        }
      ]
    },
    {
      "cell_type": "code",
      "source": [],
      "metadata": {
        "id": "e8R5ZvcKvdwf"
      },
      "execution_count": 4,
      "outputs": []
    },
    {
      "cell_type": "markdown",
      "source": [
        "Built In Functions"
      ],
      "metadata": {
        "id": "zgCZ5jdVwp-9"
      }
    },
    {
      "cell_type": "code",
      "source": [
        "data_salaries = [95000, 100000, 85000, 97000, 140000]"
      ],
      "metadata": {
        "id": "sroLDspvwrxH"
      },
      "execution_count": 5,
      "outputs": []
    },
    {
      "cell_type": "code",
      "source": [
        "min(data_salaries)\n"
      ],
      "metadata": {
        "colab": {
          "base_uri": "https://localhost:8080/"
        },
        "id": "SCRp2gzuwxaI",
        "outputId": "b8ea7175-9e76-4848-ab04-ae7a6fab1075"
      },
      "execution_count": 6,
      "outputs": [
        {
          "output_type": "execute_result",
          "data": {
            "text/plain": [
              "85000"
            ]
          },
          "metadata": {},
          "execution_count": 6
        }
      ]
    },
    {
      "cell_type": "code",
      "source": [
        "max(data_salaries)"
      ],
      "metadata": {
        "colab": {
          "base_uri": "https://localhost:8080/"
        },
        "id": "edpJmIs0w3iS",
        "outputId": "c2e34c8e-b312-4f6c-df9c-e6a277156b01"
      },
      "execution_count": 7,
      "outputs": [
        {
          "output_type": "execute_result",
          "data": {
            "text/plain": [
              "140000"
            ]
          },
          "metadata": {},
          "execution_count": 7
        }
      ]
    },
    {
      "cell_type": "code",
      "source": [
        "sorted(data_salaries, reverse=True)"
      ],
      "metadata": {
        "colab": {
          "base_uri": "https://localhost:8080/"
        },
        "id": "3dpOzKwQw3-c",
        "outputId": "ae19e206-3124-4d1b-c997-e61898c6a4dd"
      },
      "execution_count": 8,
      "outputs": [
        {
          "output_type": "execute_result",
          "data": {
            "text/plain": [
              "[140000, 100000, 97000, 95000, 85000]"
            ]
          },
          "metadata": {},
          "execution_count": 8
        }
      ]
    },
    {
      "cell_type": "code",
      "source": [
        "sorted(data_salaries)"
      ],
      "metadata": {
        "colab": {
          "base_uri": "https://localhost:8080/"
        },
        "id": "a6d04WwVw_p8",
        "outputId": "e19657f9-07b7-428b-d34c-d0bf40c91fbf"
      },
      "execution_count": 9,
      "outputs": [
        {
          "output_type": "execute_result",
          "data": {
            "text/plain": [
              "[85000, 95000, 97000, 100000, 140000]"
            ]
          },
          "metadata": {},
          "execution_count": 9
        }
      ]
    },
    {
      "cell_type": "markdown",
      "source": [
        "User-Defined Functions"
      ],
      "metadata": {
        "id": "ZBDEmnKtxGFZ"
      }
    },
    {
      "cell_type": "code",
      "source": [
        "base_salary = 100000\n",
        "bonus_rate = 0.1"
      ],
      "metadata": {
        "id": "4txbnwlYxIPp"
      },
      "execution_count": 10,
      "outputs": []
    },
    {
      "cell_type": "code",
      "source": [
        "total_salary = base_salary * (1 + bonus_rate)\n",
        "total_salary"
      ],
      "metadata": {
        "colab": {
          "base_uri": "https://localhost:8080/"
        },
        "id": "wzzJcsClxORO",
        "outputId": "0535a2cc-ca21-4eef-fd63-831849e84ead"
      },
      "execution_count": 11,
      "outputs": [
        {
          "output_type": "execute_result",
          "data": {
            "text/plain": [
              "110000.00000000001"
            ]
          },
          "metadata": {},
          "execution_count": 11
        }
      ]
    },
    {
      "cell_type": "code",
      "source": [
        "#build my own function\n",
        "\n",
        "def calculate_salary():\n",
        "  pass"
      ],
      "metadata": {
        "id": "XoXoNKK_xThZ"
      },
      "execution_count": 12,
      "outputs": []
    },
    {
      "cell_type": "code",
      "source": [
        "def calculate_salary():\n",
        "  base_salary = 100000\n",
        "  bonus_rate = 0.1\n",
        "\n",
        "  total_salary = base_salary * (1 + bonus_rate)\n",
        "\n",
        "  return total_salary"
      ],
      "metadata": {
        "id": "GCch7Aa5xhS4"
      },
      "execution_count": 13,
      "outputs": []
    },
    {
      "cell_type": "code",
      "source": [
        "calculate_salary()"
      ],
      "metadata": {
        "colab": {
          "base_uri": "https://localhost:8080/"
        },
        "id": "OOacm15VybPq",
        "outputId": "1de68f23-0d71-4fc2-e928-1731665aea08"
      },
      "execution_count": 14,
      "outputs": [
        {
          "output_type": "execute_result",
          "data": {
            "text/plain": [
              "110000.00000000001"
            ]
          },
          "metadata": {},
          "execution_count": 14
        }
      ]
    },
    {
      "cell_type": "code",
      "source": [
        "#now we have to globalize the arguments, so we can change it in the parantheses\n",
        "\n",
        "def calculate_salary(base_salary, bonus_rate):\n",
        "\n",
        "  total_salary = base_salary * (1 + bonus_rate)\n",
        "\n",
        "  return total_salary"
      ],
      "metadata": {
        "id": "3FNWecd2yghz"
      },
      "execution_count": 15,
      "outputs": []
    },
    {
      "cell_type": "code",
      "source": [
        "calculate_salary(95000, 0.25)"
      ],
      "metadata": {
        "colab": {
          "base_uri": "https://localhost:8080/"
        },
        "id": "bHMc8vV_zHBd",
        "outputId": "1f792c8c-036d-433c-aeed-e95d0440eab8"
      },
      "execution_count": 16,
      "outputs": [
        {
          "output_type": "execute_result",
          "data": {
            "text/plain": [
              "118750.0"
            ]
          },
          "metadata": {},
          "execution_count": 16
        }
      ]
    },
    {
      "cell_type": "code",
      "source": [
        "salary1 = 50000\n",
        "rate1 = 0.05"
      ],
      "metadata": {
        "id": "6QHe_v8pzPTR"
      },
      "execution_count": 17,
      "outputs": []
    },
    {
      "cell_type": "code",
      "source": [
        "calculate_salary(salary1, rate1)"
      ],
      "metadata": {
        "colab": {
          "base_uri": "https://localhost:8080/"
        },
        "id": "gE8ZEWgyzUEC",
        "outputId": "d8dbb2a2-d261-4cdc-9d73-a76a6b16ed03"
      },
      "execution_count": 18,
      "outputs": [
        {
          "output_type": "execute_result",
          "data": {
            "text/plain": [
              "52500.0"
            ]
          },
          "metadata": {},
          "execution_count": 18
        }
      ]
    },
    {
      "cell_type": "code",
      "source": [
        "def calculate_salary(base_salary, bonus_rate=.1):\n",
        "\n",
        "  total_salary = base_salary * (1 + bonus_rate)\n",
        "\n",
        "  return total_salary"
      ],
      "metadata": {
        "id": "dBa45ewv1w5b"
      },
      "execution_count": 19,
      "outputs": []
    },
    {
      "cell_type": "code",
      "source": [
        "calculate_salary(salary1)"
      ],
      "metadata": {
        "colab": {
          "base_uri": "https://localhost:8080/"
        },
        "id": "QV3LLff-2IHr",
        "outputId": "be7065c9-573e-4cef-a5b5-b1e0428f86ce"
      },
      "execution_count": 20,
      "outputs": [
        {
          "output_type": "execute_result",
          "data": {
            "text/plain": [
              "55000.00000000001"
            ]
          },
          "metadata": {},
          "execution_count": 20
        }
      ]
    },
    {
      "cell_type": "code",
      "source": [
        "calculate_salary(90000)"
      ],
      "metadata": {
        "colab": {
          "base_uri": "https://localhost:8080/"
        },
        "id": "ejX5jcgu2Na8",
        "outputId": "e645aefd-6188-4f17-f6df-a89ca1846376"
      },
      "execution_count": 21,
      "outputs": [
        {
          "output_type": "execute_result",
          "data": {
            "text/plain": [
              "99000.00000000001"
            ]
          },
          "metadata": {},
          "execution_count": 21
        }
      ]
    },
    {
      "cell_type": "markdown",
      "source": [
        "by bonus_rate=.1 this makes the second input optional. but we still can overwrite the optional bonusrate, but typing in an object"
      ],
      "metadata": {
        "id": "Dv3T69cN2X79"
      }
    },
    {
      "cell_type": "code",
      "source": [
        "calculate_salary(90000, rate1)"
      ],
      "metadata": {
        "colab": {
          "base_uri": "https://localhost:8080/"
        },
        "id": "xnq09xVT2fnq",
        "outputId": "063ff7e0-b675-414c-e32e-a9b32370e221"
      },
      "execution_count": 22,
      "outputs": [
        {
          "output_type": "execute_result",
          "data": {
            "text/plain": [
              "94500.0"
            ]
          },
          "metadata": {},
          "execution_count": 22
        }
      ]
    },
    {
      "cell_type": "markdown",
      "source": [
        "Basics Lambda Functions"
      ],
      "metadata": {
        "id": "GH89f1rJ3str"
      }
    },
    {
      "cell_type": "code",
      "source": [
        "mul_two = lambda x: x*2"
      ],
      "metadata": {
        "id": "OYSgDjtK3uoB"
      },
      "execution_count": 23,
      "outputs": []
    },
    {
      "cell_type": "code",
      "source": [
        "mul_two(25)"
      ],
      "metadata": {
        "colab": {
          "base_uri": "https://localhost:8080/"
        },
        "id": "N1jJ92JY4P0V",
        "outputId": "70fe5272-86a7-438f-a7a6-bcfc9d5d062f"
      },
      "execution_count": 24,
      "outputs": [
        {
          "output_type": "execute_result",
          "data": {
            "text/plain": [
              "50"
            ]
          },
          "metadata": {},
          "execution_count": 24
        }
      ]
    },
    {
      "cell_type": "code",
      "source": [
        "mul_hasefuess = lambda x, y: x*20+y"
      ],
      "metadata": {
        "id": "8PoRuA5f4S_z"
      },
      "execution_count": 25,
      "outputs": []
    },
    {
      "cell_type": "code",
      "source": [
        "mul_hasefuess(4, 10)"
      ],
      "metadata": {
        "colab": {
          "base_uri": "https://localhost:8080/"
        },
        "id": "Nt249Yqr4o-v",
        "outputId": "07c784d9-9962-4d56-e595-0b867bf5460e"
      },
      "execution_count": 26,
      "outputs": [
        {
          "output_type": "execute_result",
          "data": {
            "text/plain": [
              "90"
            ]
          },
          "metadata": {},
          "execution_count": 26
        }
      ]
    },
    {
      "cell_type": "code",
      "source": [
        "salary_list = [100000, 200000, 1500000, 120000, 80000, 75000]\n",
        "\n",
        "#Calculate total_salary of base_salary * (1 + bonus_rate)\n",
        "\n",
        "def salary_calc(base_salary, bonus_payment=.1):\n",
        "\n",
        "  total_salary = base_salary * (1 + bonus_payment)\n",
        "\n",
        "  return total_salary"
      ],
      "metadata": {
        "id": "LHkjf5op50rB"
      },
      "execution_count": 27,
      "outputs": []
    },
    {
      "cell_type": "code",
      "source": [
        "total_salary_list = [salary_calc(gehalt) for gehalt in salary_list]\n",
        "total_salary_list"
      ],
      "metadata": {
        "colab": {
          "base_uri": "https://localhost:8080/"
        },
        "id": "1uAsPoo66b-M",
        "outputId": "1bae78d5-3393-49b6-9cd6-8841d2713d08"
      },
      "execution_count": 28,
      "outputs": [
        {
          "output_type": "execute_result",
          "data": {
            "text/plain": [
              "[110000.00000000001,\n",
              " 220000.00000000003,\n",
              " 1650000.0000000002,\n",
              " 132000.0,\n",
              " 88000.0,\n",
              " 82500.0]"
            ]
          },
          "metadata": {},
          "execution_count": 28
        }
      ]
    },
    {
      "cell_type": "code",
      "source": [
        "total_lambda_list = [(lambda x: x)(zahlung) for zahlung in salary_list]\n",
        "total_lambda_list"
      ],
      "metadata": {
        "colab": {
          "base_uri": "https://localhost:8080/"
        },
        "id": "IJTR3Fn77SgF",
        "outputId": "3d732b40-d296-4c86-c591-1ab2d30bd282"
      },
      "execution_count": 29,
      "outputs": [
        {
          "output_type": "execute_result",
          "data": {
            "text/plain": [
              "[100000, 200000, 1500000, 120000, 80000, 75000]"
            ]
          },
          "metadata": {},
          "execution_count": 29
        }
      ]
    },
    {
      "cell_type": "code",
      "source": [
        "total_lambda_list = [(lambda x: x * 1.1)(zahlung) for zahlung in salary_list]\n",
        "total_lambda_list"
      ],
      "metadata": {
        "colab": {
          "base_uri": "https://localhost:8080/"
        },
        "id": "t7WE8wTn7qiK",
        "outputId": "5b3d2316-0232-4d01-e06a-a0725bea2459"
      },
      "execution_count": 30,
      "outputs": [
        {
          "output_type": "execute_result",
          "data": {
            "text/plain": [
              "[110000.00000000001,\n",
              " 220000.00000000003,\n",
              " 1650000.0000000002,\n",
              " 132000.0,\n",
              " 88000.0,\n",
              " 82500.0]"
            ]
          },
          "metadata": {},
          "execution_count": 30
        }
      ]
    },
    {
      "cell_type": "markdown",
      "source": [
        "More complicated example\n",
        "  "
      ],
      "metadata": {
        "id": "UdLo89EB7512"
      }
    },
    {
      "cell_type": "code",
      "source": [
        "jobs_data = [\n",
        "    {'job_title': 'Data Scientist', 'job_skills': ['Python', 'Machine Learning'], 'remote': True},\n",
        "    {'job_title': 'Data Analyst', 'job_skills': ['Excel', 'SQL'], 'remote': False},\n",
        "    {'job_title': 'Machine Learning Engineer', 'job_skills': ['Python', 'TensorFlow', 'Keras'], 'remote': True},\n",
        "    {'job_title': 'Software Developer', 'job_skills': ['Java', 'C++'], 'remote': True},\n",
        "    {'job_title': 'Data Scientist', 'job_skills': ['R', 'Statistics'], 'remote': False},\n",
        "    {'job_title': 'Product Manager', 'job_skills': ['Communication', 'Leadership'], 'remote': False},\n",
        "    {'job_title': 'Business Analyst', 'job_skills': ['Excel', 'Power BI'], 'remote': False},\n",
        "    {'job_title': 'DevOps Engineer', 'job_skills': ['Docker', 'Kubernetes'], 'remote': True},\n",
        "    {'job_title': 'Cloud Engineer', 'job_skills': ['AWS', 'Azure'], 'remote': True},\n",
        "    {'job_title': 'Frontend Developer', 'job_skills': ['HTML', 'CSS', 'JavaScript'], 'remote': False},\n",
        "    {'job_title': 'Backend Developer', 'job_skills': ['Node.js', 'Python'], 'remote': True},\n",
        "    {'job_title': 'Cybersecurity Analyst', 'job_skills': ['Network Security', 'Cryptography'], 'remote': False},\n",
        "    {'job_title': 'Database Administrator', 'job_skills': ['SQL', 'Database Management'], 'remote': True},\n",
        "    {'job_title': 'UI/UX Designer', 'job_skills': ['Adobe XD', 'Figma'], 'remote': True},\n",
        "    {'job_title': 'IT Support Specialist', 'job_skills': ['Troubleshooting', 'Customer Service'], 'remote': False}\n",
        "]\n"
      ],
      "metadata": {
        "id": "UZjW5PfI77sr"
      },
      "execution_count": 31,
      "outputs": []
    },
    {
      "cell_type": "code",
      "source": [
        "help(filter)"
      ],
      "metadata": {
        "colab": {
          "base_uri": "https://localhost:8080/"
        },
        "collapsed": true,
        "id": "5EZZ8Nqf8Ixn",
        "outputId": "abb0b580-37fc-488a-8a80-44ffef10a4d9"
      },
      "execution_count": 32,
      "outputs": [
        {
          "output_type": "stream",
          "name": "stdout",
          "text": [
            "Help on class filter in module builtins:\n",
            "\n",
            "class filter(object)\n",
            " |  filter(function or None, iterable) --> filter object\n",
            " |  \n",
            " |  Return an iterator yielding those items of iterable for which function(item)\n",
            " |  is true. If function is None, return the items that are true.\n",
            " |  \n",
            " |  Methods defined here:\n",
            " |  \n",
            " |  __getattribute__(self, name, /)\n",
            " |      Return getattr(self, name).\n",
            " |  \n",
            " |  __iter__(self, /)\n",
            " |      Implement iter(self).\n",
            " |  \n",
            " |  __next__(self, /)\n",
            " |      Implement next(self).\n",
            " |  \n",
            " |  __reduce__(...)\n",
            " |      Return state information for pickling.\n",
            " |  \n",
            " |  ----------------------------------------------------------------------\n",
            " |  Static methods defined here:\n",
            " |  \n",
            " |  __new__(*args, **kwargs) from builtins.type\n",
            " |      Create and return a new object.  See help(type) for accurate signature.\n",
            "\n"
          ]
        }
      ]
    },
    {
      "cell_type": "code",
      "source": [
        "list(filter(lambda job: job['remote'], jobs_data))"
      ],
      "metadata": {
        "colab": {
          "base_uri": "https://localhost:8080/"
        },
        "id": "uKglk0S69jqC",
        "outputId": "6c65df33-1c2b-4120-acc4-4ed61aca1c51"
      },
      "execution_count": 33,
      "outputs": [
        {
          "output_type": "execute_result",
          "data": {
            "text/plain": [
              "[{'job_title': 'Data Scientist',\n",
              "  'job_skills': ['Python', 'Machine Learning'],\n",
              "  'remote': True},\n",
              " {'job_title': 'Machine Learning Engineer',\n",
              "  'job_skills': ['Python', 'TensorFlow', 'Keras'],\n",
              "  'remote': True},\n",
              " {'job_title': 'Software Developer',\n",
              "  'job_skills': ['Java', 'C++'],\n",
              "  'remote': True},\n",
              " {'job_title': 'DevOps Engineer',\n",
              "  'job_skills': ['Docker', 'Kubernetes'],\n",
              "  'remote': True},\n",
              " {'job_title': 'Cloud Engineer',\n",
              "  'job_skills': ['AWS', 'Azure'],\n",
              "  'remote': True},\n",
              " {'job_title': 'Backend Developer',\n",
              "  'job_skills': ['Node.js', 'Python'],\n",
              "  'remote': True},\n",
              " {'job_title': 'Database Administrator',\n",
              "  'job_skills': ['SQL', 'Database Management'],\n",
              "  'remote': True},\n",
              " {'job_title': 'UI/UX Designer',\n",
              "  'job_skills': ['Adobe XD', 'Figma'],\n",
              "  'remote': True}]"
            ]
          },
          "metadata": {},
          "execution_count": 33
        }
      ]
    },
    {
      "cell_type": "code",
      "source": [
        "list(filter(lambda job: job['remote'] and \"Python\" in job['job_skills'], jobs_data))"
      ],
      "metadata": {
        "colab": {
          "base_uri": "https://localhost:8080/"
        },
        "id": "pG8q81nNTy7I",
        "outputId": "2d1dd06b-162d-4bb8-c0ac-bcf9e36c3e35"
      },
      "execution_count": 34,
      "outputs": [
        {
          "output_type": "execute_result",
          "data": {
            "text/plain": [
              "[{'job_title': 'Data Scientist',\n",
              "  'job_skills': ['Python', 'Machine Learning'],\n",
              "  'remote': True},\n",
              " {'job_title': 'Machine Learning Engineer',\n",
              "  'job_skills': ['Python', 'TensorFlow', 'Keras'],\n",
              "  'remote': True},\n",
              " {'job_title': 'Backend Developer',\n",
              "  'job_skills': ['Node.js', 'Python'],\n",
              "  'remote': True}]"
            ]
          },
          "metadata": {},
          "execution_count": 34
        }
      ]
    }
  ]
}