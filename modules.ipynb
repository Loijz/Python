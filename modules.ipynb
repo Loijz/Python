{
  "nbformat": 4,
  "nbformat_minor": 0,
  "metadata": {
    "colab": {
      "provenance": [],
      "authorship_tag": "ABX9TyOL2hrQDY8clQfLlL2KJSlV",
      "include_colab_link": true
    },
    "kernelspec": {
      "name": "python3",
      "display_name": "Python 3"
    },
    "language_info": {
      "name": "python"
    }
  },
  "cells": [
    {
      "cell_type": "markdown",
      "metadata": {
        "id": "view-in-github",
        "colab_type": "text"
      },
      "source": [
        "<a href=\"https://colab.research.google.com/github/Loijz/Python/blob/main/modules.ipynb\" target=\"_parent\"><img src=\"https://colab.research.google.com/assets/colab-badge.svg\" alt=\"Open In Colab\"/></a>"
      ]
    },
    {
      "cell_type": "markdown",
      "source": [
        "Modules\n",
        "\n",
        "Importing modules"
      ],
      "metadata": {
        "id": "2xICfBtWZWid"
      }
    },
    {
      "cell_type": "code",
      "execution_count": 1,
      "metadata": {
        "colab": {
          "base_uri": "https://localhost:8080/"
        },
        "id": "yyWYz1k8Uayx",
        "outputId": "2dfef5f6-713c-4409-c364-ad2b0b6b8e49"
      },
      "outputs": [
        {
          "output_type": "execute_result",
          "data": {
            "text/plain": [
              "['Python', 'SQL', 'Excel']"
            ]
          },
          "metadata": {},
          "execution_count": 1
        }
      ],
      "source": [
        "import my_module\n",
        "\n",
        "my_module.skill_list"
      ]
    },
    {
      "cell_type": "code",
      "source": [
        "my_module.skill(\"Python\")"
      ],
      "metadata": {
        "colab": {
          "base_uri": "https://localhost:8080/",
          "height": 35
        },
        "id": "ZKhP_Du6azLQ",
        "outputId": "19822f5e-8cee-4c6c-9e98-7b52d41b04bc"
      },
      "execution_count": 2,
      "outputs": [
        {
          "output_type": "execute_result",
          "data": {
            "text/plain": [
              "'Python is my favourite skill!'"
            ],
            "application/vnd.google.colaboratory.intrinsic+json": {
              "type": "string"
            }
          },
          "metadata": {},
          "execution_count": 2
        }
      ]
    },
    {
      "cell_type": "code",
      "source": [
        "import job_analyzer"
      ],
      "metadata": {
        "id": "RnSbBAMjbTFO"
      },
      "execution_count": 3,
      "outputs": []
    },
    {
      "cell_type": "code",
      "source": [
        "job_analyzer.calculate_salary(100000)"
      ],
      "metadata": {
        "colab": {
          "base_uri": "https://localhost:8080/"
        },
        "id": "mw_u_6gNbsBj",
        "outputId": "7bf9ef25-f8da-4ade-cb07-88ca35bd1bdf"
      },
      "execution_count": 4,
      "outputs": [
        {
          "output_type": "execute_result",
          "data": {
            "text/plain": [
              "110000.00000000001"
            ]
          },
          "metadata": {},
          "execution_count": 4
        }
      ]
    },
    {
      "cell_type": "code",
      "source": [
        "#if we import calculate_salary like this, we do not have\n",
        "#to write the module and function everytime\n",
        "\n",
        "#from job_analyzer import calculate_salary\n",
        "\n",
        "#calculate_salary(100000)\n",
        "\n",
        "from job_analyzer import *\n",
        "\n",
        "calculate_salary(100000)\n",
        "\n",
        "calculate_bonus(110000, 90000)"
      ],
      "metadata": {
        "colab": {
          "base_uri": "https://localhost:8080/"
        },
        "id": "tuGzP3_4cFbz",
        "outputId": "a579c4a3-f609-403c-e643-eb157d05514a"
      },
      "execution_count": 5,
      "outputs": [
        {
          "output_type": "execute_result",
          "data": {
            "text/plain": [
              "0.2222222222222222"
            ]
          },
          "metadata": {},
          "execution_count": 5
        }
      ]
    },
    {
      "cell_type": "code",
      "source": [
        "help(calculate_salary)"
      ],
      "metadata": {
        "colab": {
          "base_uri": "https://localhost:8080/"
        },
        "id": "EAJtThwCcVJp",
        "outputId": "397f6500-9364-435f-809a-5dea0dfbf5fe"
      },
      "execution_count": 6,
      "outputs": [
        {
          "output_type": "stream",
          "name": "stdout",
          "text": [
            "Help on function calculate_salary in module job_analyzer:\n",
            "\n",
            "calculate_salary(base_salary, bonus_rate=0.1)\n",
            "    Calculate the total salary based on the base salary and bonusrate\n",
            "    Args: \n",
            "      base_salary (float): The base salary.\n",
            "      bonus_rate (float): The bonus rate. Default is .1\n",
            "    \n",
            "    returns:\n",
            "      float: The total salary\n",
            "\n"
          ]
        }
      ]
    },
    {
      "cell_type": "code",
      "source": [
        "help(calculate_bonus)"
      ],
      "metadata": {
        "colab": {
          "base_uri": "https://localhost:8080/"
        },
        "id": "sHiaKjFJdmq_",
        "outputId": "ab20c35d-003b-49cc-f9a8-ddc78bceba5d"
      },
      "execution_count": 7,
      "outputs": [
        {
          "output_type": "stream",
          "name": "stdout",
          "text": [
            "Help on function calculate_bonus in module job_analyzer:\n",
            "\n",
            "calculate_bonus(total_salary, base_salary)\n",
            "      Calculate the bonusrate\n",
            "      \n",
            "    Args:\n",
            "      total_salary (float): The total salary (mandatory)\n",
            "      base_salary (float): The base salary (mandatory)\n",
            "    \n",
            "    returns:\n",
            "      float: bonus rate\n",
            "\n"
          ]
        }
      ]
    },
    {
      "cell_type": "code",
      "source": [],
      "metadata": {
        "id": "L5C3SvjLivfU"
      },
      "execution_count": 7,
      "outputs": []
    },
    {
      "cell_type": "code",
      "source": [
        "salary_list = [98000, 101000, 102000, 99000, 97000]"
      ],
      "metadata": {
        "id": "V7KmEO8bjcEE"
      },
      "execution_count": 8,
      "outputs": []
    },
    {
      "cell_type": "code",
      "source": [
        "#import statistics\n",
        "\n",
        "#statistics.mean(salary_list)"
      ],
      "metadata": {
        "id": "-MQElLMXjjEx"
      },
      "execution_count": 9,
      "outputs": []
    },
    {
      "cell_type": "code",
      "source": [
        "from statistics import mean, mode, median\n",
        "\n",
        "mean(salary_list)"
      ],
      "metadata": {
        "colab": {
          "base_uri": "https://localhost:8080/"
        },
        "id": "C0Op6hX8jptQ",
        "outputId": "4a0c6596-ceb1-4d45-f38a-04e20ad27f62"
      },
      "execution_count": 10,
      "outputs": [
        {
          "output_type": "execute_result",
          "data": {
            "text/plain": [
              "99400"
            ]
          },
          "metadata": {},
          "execution_count": 10
        }
      ]
    },
    {
      "cell_type": "code",
      "source": [
        "mode(salary_list)"
      ],
      "metadata": {
        "colab": {
          "base_uri": "https://localhost:8080/"
        },
        "id": "Dpbhe1O3j7nt",
        "outputId": "ed407c29-4369-485f-9295-31452a7ffe58"
      },
      "execution_count": 11,
      "outputs": [
        {
          "output_type": "execute_result",
          "data": {
            "text/plain": [
              "98000"
            ]
          },
          "metadata": {},
          "execution_count": 11
        }
      ]
    },
    {
      "cell_type": "code",
      "source": [
        "median(salary_list)"
      ],
      "metadata": {
        "colab": {
          "base_uri": "https://localhost:8080/"
        },
        "id": "ZL1TMU72j9M0",
        "outputId": "4cb38597-9fe6-4061-c101-6893edef799b"
      },
      "execution_count": 12,
      "outputs": [
        {
          "output_type": "execute_result",
          "data": {
            "text/plain": [
              "99000"
            ]
          },
          "metadata": {},
          "execution_count": 12
        }
      ]
    }
  ]
}