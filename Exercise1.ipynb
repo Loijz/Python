{
  "nbformat": 4,
  "nbformat_minor": 0,
  "metadata": {
    "colab": {
      "provenance": [],
      "authorship_tag": "ABX9TyMUN7R/mcB5q64l56VZ/Qj+",
      "include_colab_link": true
    },
    "kernelspec": {
      "name": "python3",
      "display_name": "Python 3"
    },
    "language_info": {
      "name": "python"
    }
  },
  "cells": [
    {
      "cell_type": "markdown",
      "metadata": {
        "id": "view-in-github",
        "colab_type": "text"
      },
      "source": [
        "<a href=\"https://colab.research.google.com/github/Loijz/Python/blob/main/Exercise1.ipynb\" target=\"_parent\"><img src=\"https://colab.research.google.com/assets/colab-badge.svg\" alt=\"Open In Colab\"/></a>"
      ]
    },
    {
      "cell_type": "code",
      "execution_count": 1,
      "metadata": {
        "id": "wwYjK3VY78A8"
      },
      "outputs": [],
      "source": [
        "# Define data science job roles and required skills\n",
        "job_roles = [\n",
        "    {'role': 'Data Analyst', 'skills': ['Python', 'SQL', 'Excel']},\n",
        "    {'role': 'Data Scientist', 'skills': ['Python', 'R', 'Machine Learning', 'Deep Learning']},\n",
        "    {'role': 'Machine Learning Engineer', 'skills': ['Python', 'TensorFlow', 'PyTorch', 'Scikit-Learn']},\n",
        "    {'role': 'Data Engineer', 'skills': ['Python', 'Apache Spark', 'Hadoop', 'SQL']},\n",
        "    {'role': 'Business Intelligence Analyst', 'skills': ['Python', 'SQL', 'Tableau', 'Power BI', 'Excel']},\n",
        "    {'role': 'Quantitative Analyst', 'skills': ['R', 'Python', 'MATLAB', 'Statistics']},\n",
        "    {'role': 'Operations Analyst', 'skills': ['Python', 'SQL', 'Data Visualization', 'Process Improvement']},\n",
        "    {'role': 'Database Administrator', 'skills': ['SQL', 'Oracle', 'MySQL', 'Database Management']},\n",
        "    {'role': 'AI Engineer', 'skills': ['Python', 'TensorFlow', 'PyTorch', 'Computer Vision']},\n",
        "    {'role': 'Statistician', 'skills': ['R', 'SAS', 'Python', 'Statistical Modeling']}\n",
        "]\n",
        "# My skills\n",
        "my_skills = ['Python', 'SQL', 'Excel']"
      ]
    },
    {
      "cell_type": "code",
      "source": [
        "list(job_roles)"
      ],
      "metadata": {
        "colab": {
          "base_uri": "https://localhost:8080/"
        },
        "id": "L5dyG0iv9VSE",
        "outputId": "84c495d9-d07e-4a04-de49-2e69953f2efc"
      },
      "execution_count": 3,
      "outputs": [
        {
          "output_type": "execute_result",
          "data": {
            "text/plain": [
              "[{'role': 'Data Analyst', 'skills': ['Python', 'SQL', 'Excel']},\n",
              " {'role': 'Data Scientist',\n",
              "  'skills': ['Python', 'R', 'Machine Learning', 'Deep Learning']},\n",
              " {'role': 'Machine Learning Engineer',\n",
              "  'skills': ['Python', 'TensorFlow', 'PyTorch', 'Scikit-Learn']},\n",
              " {'role': 'Data Engineer',\n",
              "  'skills': ['Python', 'Apache Spark', 'Hadoop', 'SQL']},\n",
              " {'role': 'Business Intelligence Analyst',\n",
              "  'skills': ['Python', 'SQL', 'Tableau', 'Power BI', 'Excel']},\n",
              " {'role': 'Quantitative Analyst',\n",
              "  'skills': ['R', 'Python', 'MATLAB', 'Statistics']},\n",
              " {'role': 'Operations Analyst',\n",
              "  'skills': ['Python', 'SQL', 'Data Visualization', 'Process Improvement']},\n",
              " {'role': 'Database Administrator',\n",
              "  'skills': ['SQL', 'Oracle', 'MySQL', 'Database Management']},\n",
              " {'role': 'AI Engineer',\n",
              "  'skills': ['Python', 'TensorFlow', 'PyTorch', 'Computer Vision']},\n",
              " {'role': 'Statistician',\n",
              "  'skills': ['R', 'SAS', 'Python', 'Statistical Modeling']}]"
            ]
          },
          "metadata": {},
          "execution_count": 3
        }
      ]
    },
    {
      "cell_type": "code",
      "source": [
        "for job in job_roles:\n",
        "  print(job)"
      ],
      "metadata": {
        "colab": {
          "base_uri": "https://localhost:8080/"
        },
        "id": "ZobleM56917Q",
        "outputId": "984a245c-292e-4c2d-f26c-d0f18b596b7b"
      },
      "execution_count": 4,
      "outputs": [
        {
          "output_type": "stream",
          "name": "stdout",
          "text": [
            "{'role': 'Data Analyst', 'skills': ['Python', 'SQL', 'Excel']}\n",
            "{'role': 'Data Scientist', 'skills': ['Python', 'R', 'Machine Learning', 'Deep Learning']}\n",
            "{'role': 'Machine Learning Engineer', 'skills': ['Python', 'TensorFlow', 'PyTorch', 'Scikit-Learn']}\n",
            "{'role': 'Data Engineer', 'skills': ['Python', 'Apache Spark', 'Hadoop', 'SQL']}\n",
            "{'role': 'Business Intelligence Analyst', 'skills': ['Python', 'SQL', 'Tableau', 'Power BI', 'Excel']}\n",
            "{'role': 'Quantitative Analyst', 'skills': ['R', 'Python', 'MATLAB', 'Statistics']}\n",
            "{'role': 'Operations Analyst', 'skills': ['Python', 'SQL', 'Data Visualization', 'Process Improvement']}\n",
            "{'role': 'Database Administrator', 'skills': ['SQL', 'Oracle', 'MySQL', 'Database Management']}\n",
            "{'role': 'AI Engineer', 'skills': ['Python', 'TensorFlow', 'PyTorch', 'Computer Vision']}\n",
            "{'role': 'Statistician', 'skills': ['R', 'SAS', 'Python', 'Statistical Modeling']}\n"
          ]
        }
      ]
    },
    {
      "cell_type": "code",
      "source": [
        "for skill in job_roles:\n",
        "  print(skill['skills'])"
      ],
      "metadata": {
        "colab": {
          "base_uri": "https://localhost:8080/"
        },
        "id": "z1bap0sq-YE0",
        "outputId": "6253ecc3-adfb-436d-dbbe-5f3c320fc914"
      },
      "execution_count": 11,
      "outputs": [
        {
          "output_type": "stream",
          "name": "stdout",
          "text": [
            "['Python', 'SQL', 'Excel']\n",
            "['Python', 'R', 'Machine Learning', 'Deep Learning']\n",
            "['Python', 'TensorFlow', 'PyTorch', 'Scikit-Learn']\n",
            "['Python', 'Apache Spark', 'Hadoop', 'SQL']\n",
            "['Python', 'SQL', 'Tableau', 'Power BI', 'Excel']\n",
            "['R', 'Python', 'MATLAB', 'Statistics']\n",
            "['Python', 'SQL', 'Data Visualization', 'Process Improvement']\n",
            "['SQL', 'Oracle', 'MySQL', 'Database Management']\n",
            "['Python', 'TensorFlow', 'PyTorch', 'Computer Vision']\n",
            "['R', 'SAS', 'Python', 'Statistical Modeling']\n"
          ]
        }
      ]
    },
    {
      "cell_type": "code",
      "source": [
        "qualified_roles = []\n",
        "\n",
        "for job in job_roles:\n",
        "  qualified = True\n",
        "\n",
        "  for skill in my_skills:\n",
        "    if skill not in job['skills']:\n",
        "      qualified = False\n",
        "      break\n",
        "  if qualified:\n",
        "    qualified_roles.append(job['role'])"
      ],
      "metadata": {
        "id": "w7--7rRF-ghm"
      },
      "execution_count": 27,
      "outputs": []
    },
    {
      "cell_type": "code",
      "source": [
        "type([])"
      ],
      "metadata": {
        "colab": {
          "base_uri": "https://localhost:8080/"
        },
        "id": "PnrCjfemCOwK",
        "outputId": "791c8cc6-51c7-46d4-e0df-16bd1f71d235"
      },
      "execution_count": 20,
      "outputs": [
        {
          "output_type": "execute_result",
          "data": {
            "text/plain": [
              "list"
            ]
          },
          "metadata": {},
          "execution_count": 20
        }
      ]
    },
    {
      "cell_type": "code",
      "source": [
        "qualified_roles"
      ],
      "metadata": {
        "colab": {
          "base_uri": "https://localhost:8080/"
        },
        "id": "Qt0dq7LjCRuV",
        "outputId": "37019811-f855-4777-ab7f-4acaf945966f"
      },
      "execution_count": 23,
      "outputs": [
        {
          "output_type": "execute_result",
          "data": {
            "text/plain": [
              "['Data Analyst', 'Business Intelligence Analyst']"
            ]
          },
          "metadata": {},
          "execution_count": 23
        }
      ]
    },
    {
      "cell_type": "code",
      "source": [
        "#Determine which jobs you're qualified for\n",
        "qualified_roles = []\n",
        "\n",
        "for job in job_roles:\n",
        "  #Check if all required skills are in my_skills\n",
        "  if all(skill in job['skills'] for skill in my_skills):\n",
        "    #Add the job role to the qualified_roles list\n",
        "    qualified_roles.append(job['role'])\n",
        "\n",
        "qualified_roles"
      ],
      "metadata": {
        "colab": {
          "base_uri": "https://localhost:8080/"
        },
        "id": "xUMHau38C0YZ",
        "outputId": "6468dc64-08ad-45b1-ca08-6138b78c2139"
      },
      "execution_count": 35,
      "outputs": [
        {
          "output_type": "execute_result",
          "data": {
            "text/plain": [
              "['Data Analyst', 'Business Intelligence Analyst']"
            ]
          },
          "metadata": {},
          "execution_count": 35
        }
      ]
    }
  ]
}